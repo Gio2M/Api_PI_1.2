{
 "cells": [
  {
   "cell_type": "markdown",
   "metadata": {},
   "source": [
    "# Cargamos los datasets con los que vamos a trabajar"
   ]
  },
  {
   "cell_type": "code",
   "execution_count": 16,
   "metadata": {},
   "outputs": [
    {
     "name": "stdout",
     "output_type": "stream",
     "text": [
      "                 publisher                                             genres  \\\n",
      "0                Kotoshiro  ['Action', 'Casual', 'Indie', 'Simulation', 'S...   \n",
      "1         Making Fun, Inc.       ['Free to Play', 'Indie', 'RPG', 'Strategy']   \n",
      "2             Poolians.com  ['Casual', 'Free to Play', 'Indie', 'Simulatio...   \n",
      "3                     彼岸领域                  ['Action', 'Adventure', 'Casual']   \n",
      "4      Trickjump Games Ltd              ['Action', 'Adventure', 'Simulation']   \n",
      "...                    ...                                                ...   \n",
      "22491      Bidoniera Games         ['Action', 'Adventure', 'Casual', 'Indie']   \n",
      "22492      Ghost_RUS Games      ['Casual', 'Indie', 'Simulation', 'Strategy']   \n",
      "22493               Sacada                    ['Casual', 'Indie', 'Strategy']   \n",
      "22494         Laush Studio                  ['Indie', 'Racing', 'Simulation']   \n",
      "22495             SIXNAILS                                ['Casual', 'Indie']   \n",
      "\n",
      "                       app_name                     title  \\\n",
      "0           Lost Summoner Kitty       Lost Summoner Kitty   \n",
      "1                     Ironbound                 Ironbound   \n",
      "2       Real Pool 3D - Poolians   Real Pool 3D - Poolians   \n",
      "3                       弹炸人2222                   弹炸人2222   \n",
      "4         Battle Royale Trainer     Battle Royale Trainer   \n",
      "...                         ...                       ...   \n",
      "22491              Kebab it Up!              Kebab it Up!   \n",
      "22492            Colony On Mars            Colony On Mars   \n",
      "22493  LOGistICAL: South Africa  LOGistICAL: South Africa   \n",
      "22494             Russian Roads             Russian Roads   \n",
      "22495       EXIT 2 - Directions       EXIT 2 - Directions   \n",
      "\n",
      "                                                     url release_date  \\\n",
      "0      http://store.steampowered.com/app/761140/Lost_...   2018-01-04   \n",
      "1      http://store.steampowered.com/app/643980/Ironb...   2018-01-04   \n",
      "2      http://store.steampowered.com/app/670290/Real_...   2017-07-24   \n",
      "3         http://store.steampowered.com/app/767400/2222/   2017-12-07   \n",
      "4      http://store.steampowered.com/app/772540/Battl...   2018-01-04   \n",
      "...                                                  ...          ...   \n",
      "22491  http://store.steampowered.com/app/745400/Kebab...   2018-01-04   \n",
      "22492  http://store.steampowered.com/app/773640/Colon...   2018-01-04   \n",
      "22493  http://store.steampowered.com/app/733530/LOGis...   2018-01-04   \n",
      "22494  http://store.steampowered.com/app/610660/Russi...   2018-01-04   \n",
      "22495  http://store.steampowered.com/app/658870/EXIT_...   2017-09-02   \n",
      "\n",
      "                                                    tags  \\\n",
      "0      ['Strategy', 'Action', 'Indie', 'Casual', 'Sim...   \n",
      "1      ['Free to Play', 'Strategy', 'Indie', 'RPG', '...   \n",
      "2      ['Free to Play', 'Simulation', 'Sports', 'Casu...   \n",
      "3                      ['Action', 'Adventure', 'Casual']   \n",
      "4      ['Action', 'Adventure', 'Simulation', 'FPS', '...   \n",
      "...                                                  ...   \n",
      "22491  ['Action', 'Indie', 'Casual', 'Violent', 'Adve...   \n",
      "22492      ['Strategy', 'Indie', 'Casual', 'Simulation']   \n",
      "22493                    ['Strategy', 'Indie', 'Casual']   \n",
      "22494                  ['Indie', 'Simulation', 'Racing']   \n",
      "22495  ['Indie', 'Casual', 'Puzzle', 'Singleplayer', ...   \n",
      "\n",
      "                                             reviews_url  \\\n",
      "0      http://steamcommunity.com/app/761140/reviews/?...   \n",
      "1      http://steamcommunity.com/app/643980/reviews/?...   \n",
      "2      http://steamcommunity.com/app/670290/reviews/?...   \n",
      "3      http://steamcommunity.com/app/767400/reviews/?...   \n",
      "4      http://steamcommunity.com/app/772540/reviews/?...   \n",
      "...                                                  ...   \n",
      "22491  http://steamcommunity.com/app/745400/reviews/?...   \n",
      "22492  http://steamcommunity.com/app/773640/reviews/?...   \n",
      "22493  http://steamcommunity.com/app/733530/reviews/?...   \n",
      "22494  http://steamcommunity.com/app/610660/reviews/?...   \n",
      "22495  http://steamcommunity.com/app/658870/reviews/?...   \n",
      "\n",
      "                                                   specs         price  \\\n",
      "0                                      ['Single-player']          4.99   \n",
      "1      ['Single-player', 'Multi-player', 'Online Mult...  Free To Play   \n",
      "2      ['Single-player', 'Multi-player', 'Online Mult...  Free to Play   \n",
      "3                                      ['Single-player']          0.99   \n",
      "4                ['Single-player', 'Steam Achievements']          3.99   \n",
      "...                                                  ...           ...   \n",
      "22491  ['Single-player', 'Steam Achievements', 'Steam...          1.99   \n",
      "22492            ['Single-player', 'Steam Achievements']          1.99   \n",
      "22493  ['Single-player', 'Steam Achievements', 'Steam...          4.99   \n",
      "22494  ['Single-player', 'Steam Achievements', 'Steam...          1.99   \n",
      "22495  ['Single-player', 'Steam Achievements', 'Steam...          4.99   \n",
      "\n",
      "       early_access  item_id                 developer  \n",
      "0             False   761140                 Kotoshiro  \n",
      "1             False   643980          Secret Level SRL  \n",
      "2             False   670290              Poolians.com  \n",
      "3             False   767400                      彼岸领域  \n",
      "4             False   772540       Trickjump Games Ltd  \n",
      "...             ...      ...                       ...  \n",
      "22491         False   745400           Bidoniera Games  \n",
      "22492         False   773640        Nikita \"Ghost_RUS\"  \n",
      "22493         False   733530                    Sacada  \n",
      "22494         False   610660  Laush Dmitriy Sergeevich  \n",
      "22495         False   658870             xropi,stev3ns  \n",
      "\n",
      "[22496 rows x 13 columns]\n"
     ]
    }
   ],
   "source": [
    "import pandas as pd\n",
    "# Especifica la ruta del archivo CSV que deseas leer\n",
    "file_path = 'Data/Datos_csv/games.csv'\n",
    "\n",
    "# Lee el archivo CSV y crea un DataFrame\n",
    "games = pd.read_csv(file_path, parse_dates=['release_date'])\n",
    "\n",
    "# Ahora puedo trabajar con el DataFrame 'games'\n",
    "print(games)"
   ]
  },
  {
   "cell_type": "code",
   "execution_count": 17,
   "metadata": {},
   "outputs": [
    {
     "name": "stdout",
     "output_type": "stream",
     "text": [
      "                 user_id     posted  item_id  recommend  \\\n",
      "0      76561197970982479 2011-11-05     1250       True   \n",
      "1      76561197970982479 2011-07-15    22200       True   \n",
      "2      76561197970982479 2011-04-21    43110       True   \n",
      "3                js41637 2014-06-24   251610       True   \n",
      "4                js41637 2013-09-08   227300       True   \n",
      "...                  ...        ...      ...        ...   \n",
      "49181            wayfeng 2015-10-14      730       True   \n",
      "49182  76561198251004808 2015-10-10   253980       True   \n",
      "49183        72947282842 2015-10-31      730       True   \n",
      "49184          ApxLGhost 2015-12-14      730       True   \n",
      "49185  76561198267374962 2015-12-29   369200       True   \n",
      "\n",
      "                                                  review  sentiment_score  \\\n",
      "0      Simple yet with great replayability. In my opi...           0.8481   \n",
      "1                   It's unique and worth a playthrough.           0.2263   \n",
      "2      Great atmosphere. The gunplay can be a bit chu...           0.9117   \n",
      "3      I know what you think when you see this title ...           0.9566   \n",
      "4      For a simple (it's actually not all that simpl...           0.9708   \n",
      "...                                                  ...              ...   \n",
      "49181                                     its FUNNNNNNNN           0.0000   \n",
      "49182  Awesome fantasy game if you don't mind the gra...           0.7650   \n",
      "49183                                   Prettyy Mad Game          -0.4939   \n",
      "49184                                 AMAZING GAME 10/10           0.6739   \n",
      "49185  Why I voted yes? 1. Girl characters have boobs...           0.7089   \n",
      "\n",
      "       sentiment_analysis  \n",
      "0                       2  \n",
      "1                       2  \n",
      "2                       2  \n",
      "3                       2  \n",
      "4                       2  \n",
      "...                   ...  \n",
      "49181                   1  \n",
      "49182                   2  \n",
      "49183                   0  \n",
      "49184                   2  \n",
      "49185                   2  \n",
      "\n",
      "[49186 rows x 7 columns]\n"
     ]
    }
   ],
   "source": [
    "# Especifica la ruta del archivo CSV que deseas leer\n",
    "file_path = 'Data/Datos_csv/reviews_nlp.csv'\n",
    "\n",
    "# Lee el archivo CSV y crea un DataFrame\n",
    "reviews = pd.read_csv(file_path, parse_dates=['posted'])\n",
    "\n",
    "# Ahora puedes trabajar con el DataFrame 'reviews'\n",
    "print(reviews)"
   ]
  },
  {
   "cell_type": "code",
   "execution_count": 18,
   "metadata": {},
   "outputs": [
    {
     "name": "stdout",
     "output_type": "stream",
     "text": [
      "          user_id  item_id  recommend\n",
      "0       diego9031   223710       True\n",
      "1       diego9031   299360       True\n",
      "2       diego9031   322330       True\n",
      "3       diego9031     1250       True\n",
      "4       diego9031    12100       True\n",
      "...           ...      ...        ...\n",
      "5689  ShadowYT100   354500       True\n",
      "5690  ShadowYT100    10180       True\n",
      "5691  ShadowYT100   301520       True\n",
      "5692  ShadowYT100      440       True\n",
      "5693  ShadowYT100   265630       True\n",
      "\n",
      "[5694 rows x 3 columns]\n"
     ]
    }
   ],
   "source": [
    "# Especifica la ruta del archivo CSV que deseas leer\n",
    "file_path = 'Data/Datos_csv/df_train_filtrado.csv'\n",
    "\n",
    "# Lee el archivo CSV y crea un DataFrame\n",
    "df_train_filtrado = pd.read_csv(file_path)\n",
    "\n",
    "# Ahora puedes trabajar con el DataFrame 'reviews'\n",
    "print(df_train_filtrado)"
   ]
  },
  {
   "cell_type": "markdown",
   "metadata": {},
   "source": [
    "# Importamos las librerias necesarias para entrenar y evaluar el modelo"
   ]
  },
  {
   "cell_type": "code",
   "execution_count": 19,
   "metadata": {},
   "outputs": [],
   "source": [
    "from surprise import Dataset\n",
    "from surprise import Reader\n",
    "from surprise.model_selection import train_test_split\n",
    "from surprise import accuracy\n",
    "from surprise import KNNBasic"
   ]
  },
  {
   "cell_type": "markdown",
   "metadata": {},
   "source": [
    "# Definimos el conjunto de prueba y entrenamiento y entrenamos el modelo"
   ]
  },
  {
   "cell_type": "code",
   "execution_count": 20,
   "metadata": {},
   "outputs": [
    {
     "name": "stdout",
     "output_type": "stream",
     "text": [
      "Computing the pearson similarity matrix...\n",
      "Done computing similarity matrix.\n"
     ]
    },
    {
     "data": {
      "text/plain": [
       "<surprise.prediction_algorithms.knns.KNNBasic at 0x22c7bf6c7c0>"
      ]
     },
     "execution_count": 20,
     "metadata": {},
     "output_type": "execute_result"
    }
   ],
   "source": [
    "# Configura el lector y la escala de calificación (ajusta esto según tus datos)\n",
    "reader = Reader(rating_scale=(0, 1))\n",
    "\n",
    "# Carga los datos\n",
    "data = Dataset.load_from_df(df_train_filtrado[['user_id', 'item_id', 'recommend']], reader)\n",
    "\n",
    "# Divide los datos en conjuntos de entrenamiento y prueba\n",
    "trainset, testset = train_test_split(data, test_size=0.2)\n",
    "\n",
    "# Crea el modelo KNN (K-Nearest Neighbors) para encontrar usuarios similares\n",
    "sim_options = {'name': 'pearson', 'user_based': True}\n",
    "algo = KNNBasic(sim_options=sim_options)\n",
    "\n",
    "# Entrena el modelo en el conjunto de entrenamiento\n",
    "algo.fit(trainset)\n"
   ]
  },
  {
   "cell_type": "markdown",
   "metadata": {},
   "source": [
    "# Guardamos el modelo entrenado en un archivo binario para su posterior uso"
   ]
  },
  {
   "cell_type": "code",
   "execution_count": 21,
   "metadata": {},
   "outputs": [
    {
     "data": {
      "text/plain": [
       "['modelo_surprise.pkl']"
      ]
     },
     "execution_count": 21,
     "metadata": {},
     "output_type": "execute_result"
    }
   ],
   "source": [
    "import joblib\n",
    "\n",
    "# Guardar el modelo\n",
    "joblib.dump(algo, 'modelo_surprise.pkl')"
   ]
  },
  {
   "cell_type": "markdown",
   "metadata": {},
   "source": [
    "# Cargamos el modelo"
   ]
  },
  {
   "cell_type": "code",
   "execution_count": 22,
   "metadata": {},
   "outputs": [],
   "source": [
    "import joblib\n",
    "# Cargar el modelo\n",
    "algo = joblib.load('modelo_surprise.pkl')"
   ]
  },
  {
   "cell_type": "markdown",
   "metadata": {},
   "source": [
    "# Obtenimos recomendaciones para un usuario dado."
   ]
  },
  {
   "cell_type": "code",
   "execution_count": 23,
   "metadata": {},
   "outputs": [
    {
     "name": "stdout",
     "output_type": "stream",
     "text": [
      "Juegos recomendados por usuarios similares:\n",
      "[ 17390 304930 346900 246620 290140 105600 219640 109400    440 359550\n",
      "   8930  72850 244850 377160  35450 224260   4920    550   1250   8190\n",
      " 230410  50620 235540 238320 252490   8870  49520 310380    730 412470\n",
      "   4000 206420  24800 219740  17480 206500  99900  24980    570 200710\n",
      "    240    420    380    620    400 207610 244770 306130 391540 417860\n",
      " 324810 247000  65800  55230 241540 206210  24240]\n"
     ]
    }
   ],
   "source": [
    "# Supongamos que tenemos un usuario de interés con user_id = 'tu_usuario'\n",
    "tu_usuario = 'ShadowYT100'\n",
    "\n",
    "# Encuentra los usuarios más similares al usuario de interés\n",
    "similar_users = algo.get_neighbors(algo.trainset.to_inner_uid(tu_usuario), k=10)\n",
    "\n",
    "# Filtra las reseñas de los usuarios similares\n",
    "reviews_similares = reviews[reviews['user_id'].isin([algo.trainset.to_raw_uid(uid) for uid in similar_users])]\n",
    "\n",
    "# Filtra las reseñas de juegos que han sido recomendados (recommend=True)\n",
    "juegos_recomendados = reviews_similares[reviews_similares['recommend']]\n",
    "\n",
    "# Obtén la lista de juegos recomendados por usuarios similares\n",
    "juegos_recomendados_lista = juegos_recomendados['item_id'].unique()\n",
    "\n",
    "# Imprime la lista de juegos recomendados\n",
    "print(\"Juegos recomendados por usuarios similares:\")\n",
    "print(juegos_recomendados_lista)"
   ]
  },
  {
   "cell_type": "code",
   "execution_count": 24,
   "metadata": {},
   "outputs": [
    {
     "data": {
      "text/plain": [
       "[0, 1, 2, 3, 4, 5, 6, 7, 8, 9]"
      ]
     },
     "execution_count": 24,
     "metadata": {},
     "output_type": "execute_result"
    }
   ],
   "source": [
    "similar_users"
   ]
  },
  {
   "cell_type": "code",
   "execution_count": 25,
   "metadata": {},
   "outputs": [
    {
     "data": {
      "text/html": [
       "<div>\n",
       "<style scoped>\n",
       "    .dataframe tbody tr th:only-of-type {\n",
       "        vertical-align: middle;\n",
       "    }\n",
       "\n",
       "    .dataframe tbody tr th {\n",
       "        vertical-align: top;\n",
       "    }\n",
       "\n",
       "    .dataframe thead th {\n",
       "        text-align: right;\n",
       "    }\n",
       "</style>\n",
       "<table border=\"1\" class=\"dataframe\">\n",
       "  <thead>\n",
       "    <tr style=\"text-align: right;\">\n",
       "      <th></th>\n",
       "      <th>user_id</th>\n",
       "      <th>posted</th>\n",
       "      <th>item_id</th>\n",
       "      <th>recommend</th>\n",
       "      <th>review</th>\n",
       "      <th>sentiment_score</th>\n",
       "      <th>sentiment_analysis</th>\n",
       "    </tr>\n",
       "  </thead>\n",
       "  <tbody>\n",
       "    <tr>\n",
       "      <th>10324</th>\n",
       "      <td>76561198064394417</td>\n",
       "      <td>2015-12-04</td>\n",
       "      <td>17390</td>\n",
       "      <td>True</td>\n",
       "      <td>I made a human10/10</td>\n",
       "      <td>0.0000</td>\n",
       "      <td>1</td>\n",
       "    </tr>\n",
       "    <tr>\n",
       "      <th>10325</th>\n",
       "      <td>76561198064394417</td>\n",
       "      <td>2015-12-04</td>\n",
       "      <td>304930</td>\n",
       "      <td>True</td>\n",
       "      <td>Zombies100/10</td>\n",
       "      <td>0.0000</td>\n",
       "      <td>1</td>\n",
       "    </tr>\n",
       "    <tr>\n",
       "      <th>10326</th>\n",
       "      <td>76561198064394417</td>\n",
       "      <td>2015-11-05</td>\n",
       "      <td>346900</td>\n",
       "      <td>True</td>\n",
       "      <td>Money, fake money ftw.9/10</td>\n",
       "      <td>-0.4767</td>\n",
       "      <td>0</td>\n",
       "    </tr>\n",
       "  </tbody>\n",
       "</table>\n",
       "</div>"
      ],
      "text/plain": [
       "                 user_id     posted  item_id  recommend  \\\n",
       "10324  76561198064394417 2015-12-04    17390       True   \n",
       "10325  76561198064394417 2015-12-04   304930       True   \n",
       "10326  76561198064394417 2015-11-05   346900       True   \n",
       "\n",
       "                           review  sentiment_score  sentiment_analysis  \n",
       "10324         I made a human10/10           0.0000                   1  \n",
       "10325               Zombies100/10           0.0000                   1  \n",
       "10326  Money, fake money ftw.9/10          -0.4767                   0  "
      ]
     },
     "execution_count": 25,
     "metadata": {},
     "output_type": "execute_result"
    }
   ],
   "source": [
    "reviews_similares.head(3)"
   ]
  },
  {
   "cell_type": "markdown",
   "metadata": {},
   "source": [
    "# Evaluamos el rendimiento del modelo"
   ]
  },
  {
   "cell_type": "code",
   "execution_count": 26,
   "metadata": {},
   "outputs": [
    {
     "name": "stdout",
     "output_type": "stream",
     "text": [
      "RMSE: 0.3176\n",
      "RMSE: 0.31760005558055765\n"
     ]
    }
   ],
   "source": [
    "# Realiza predicciones en el conjunto de prueba\n",
    "predictions = algo.test(testset)\n",
    "\n",
    "# Calcula la RMSE para evaluar el rendimiento del modelo\n",
    "rmse = accuracy.rmse(predictions)\n",
    "\n",
    "# Imprime la RMSE\n",
    "print(f'RMSE: {rmse}')"
   ]
  },
  {
   "cell_type": "markdown",
   "metadata": {},
   "source": [
    "# Obtenemos un listado con los 5 juego recomendados para el usuario dado apartir de las recomendaciones hechas por el modelo."
   ]
  },
  {
   "cell_type": "code",
   "execution_count": 27,
   "metadata": {},
   "outputs": [
    {
     "name": "stdout",
     "output_type": "stream",
     "text": [
      "   item_id              app_name\n",
      "0    17390                SPORE™\n",
      "1   304930              Unturned\n",
      "2   346900  AdVenture Capitalist\n",
      "3   246620   Plague Inc: Evolved\n",
      "4   290140          Echo of Soul\n"
     ]
    },
    {
     "data": {
      "text/html": [
       "<div>\n",
       "<style scoped>\n",
       "    .dataframe tbody tr th:only-of-type {\n",
       "        vertical-align: middle;\n",
       "    }\n",
       "\n",
       "    .dataframe tbody tr th {\n",
       "        vertical-align: top;\n",
       "    }\n",
       "\n",
       "    .dataframe thead th {\n",
       "        text-align: right;\n",
       "    }\n",
       "</style>\n",
       "<table border=\"1\" class=\"dataframe\">\n",
       "  <thead>\n",
       "    <tr style=\"text-align: right;\">\n",
       "      <th></th>\n",
       "      <th>item_id</th>\n",
       "      <th>app_name</th>\n",
       "    </tr>\n",
       "  </thead>\n",
       "  <tbody>\n",
       "    <tr>\n",
       "      <th>0</th>\n",
       "      <td>17390</td>\n",
       "      <td>SPORE™</td>\n",
       "    </tr>\n",
       "    <tr>\n",
       "      <th>1</th>\n",
       "      <td>304930</td>\n",
       "      <td>Unturned</td>\n",
       "    </tr>\n",
       "    <tr>\n",
       "      <th>2</th>\n",
       "      <td>346900</td>\n",
       "      <td>AdVenture Capitalist</td>\n",
       "    </tr>\n",
       "    <tr>\n",
       "      <th>3</th>\n",
       "      <td>246620</td>\n",
       "      <td>Plague Inc: Evolved</td>\n",
       "    </tr>\n",
       "    <tr>\n",
       "      <th>4</th>\n",
       "      <td>290140</td>\n",
       "      <td>Echo of Soul</td>\n",
       "    </tr>\n",
       "  </tbody>\n",
       "</table>\n",
       "</div>"
      ],
      "text/plain": [
       "   item_id              app_name\n",
       "0    17390                SPORE™\n",
       "1   304930              Unturned\n",
       "2   346900  AdVenture Capitalist\n",
       "3   246620   Plague Inc: Evolved\n",
       "4   290140          Echo of Soul"
      ]
     },
     "execution_count": 27,
     "metadata": {},
     "output_type": "execute_result"
    }
   ],
   "source": [
    "# Inicializa una lista vacía para almacenar los juegos encontrados\n",
    "juegos_encontrados = []\n",
    "\n",
    "# Itera a través de la lista de juegos recomendados\n",
    "for juego_id in juegos_recomendados_lista:\n",
    "    # Busca el juego en el DataFrame games\n",
    "    juego = games[games['item_id'] == juego_id]\n",
    "    \n",
    "    # Si se encuentra el juego, agrégalo a la lista de juegos encontrados\n",
    "    if not juego.empty:\n",
    "        juegos_encontrados.append(juego[['item_id', 'app_name']])  # Agrega solo las columnas \"item_id\" y \"app_name\" del juego encontrado\n",
    "\n",
    "    # Si ya hemos encontrado 5 juegos, detén el bucle\n",
    "    if len(juegos_encontrados) == 5:\n",
    "        break\n",
    "\n",
    "# Convierte la lista de juegos encontrados en un DataFrame\n",
    "juegos_encontrados_df = pd.concat(juegos_encontrados, ignore_index=True)\n",
    "\n",
    "# Imprime el DataFrame de juegos encontrados con las columnas \"item_id\" y \"app_name\"\n",
    "print(juegos_encontrados_df[['item_id', 'app_name']])\n",
    "juegos_encontrados_df"
   ]
  },
  {
   "cell_type": "markdown",
   "metadata": {},
   "source": [
    "# Con todo lo anterior creamos una funcion que hace posible consumir el modelo de recomendacion."
   ]
  },
  {
   "cell_type": "code",
   "execution_count": 28,
   "metadata": {},
   "outputs": [],
   "source": [
    "def recomendacion_usuario1(id_de_usuario: str):\n",
    "\n",
    "    # Encuentra los usuarios más similares al usuario de interés\n",
    "    similar_users = algo.get_neighbors(algo.trainset.to_inner_uid(id_de_usuario), k=10)\n",
    "\n",
    "    # Filtra las reseñas de los usuarios similares\n",
    "    reviews_similares = reviews[reviews['user_id'].isin([algo.trainset.to_raw_uid(uid) for uid in similar_users])]\n",
    "\n",
    "    # Filtra las reseñas de juegos que han sido recomendados (recommend=True)\n",
    "    juegos_recomendados = reviews_similares[reviews_similares['recommend']]\n",
    "\n",
    "    # Obtén la lista de juegos recomendados por usuarios similares\n",
    "    juegos_recomendados_lista = juegos_recomendados['item_id'].unique()\n",
    "\n",
    "    # Inicializa una lista vacía para almacenar los juegos encontrados\n",
    "    juegos_encontrados = []\n",
    "\n",
    "    # Itera a través de la lista de juegos recomendados\n",
    "    for juego_id in juegos_recomendados_lista:\n",
    "        # Busca el juego en el DataFrame games\n",
    "        juego = games[games['item_id'] == juego_id]\n",
    "        \n",
    "        # Si se encuentra el juego, agrégalo a la lista de juegos encontrados\n",
    "        if not juego.empty:\n",
    "            juegos_encontrados.append(juego[['item_id', 'app_name']])  # Agrega solo las columnas \"item_id\" y \"app_name\" del juego encontrado\n",
    "\n",
    "        # Si ya hemos encontrado 5 juegos, detén el bucle\n",
    "        if len(juegos_encontrados) == 5:\n",
    "            break\n",
    "\n",
    "    # Convierte la lista de juegos encontrados en un DataFrame\n",
    "    juegos_encontrados_df = pd.concat(juegos_encontrados, ignore_index=True)\n",
    "\n",
    "    # Imprime el DataFrame de juegos encontrados con las columnas \"item_id\" y \"app_name\"\n",
    "    juegos_encontrados = juegos_encontrados_df[['item_id', 'app_name']].to_dict(orient='records')\n",
    "    return juegos_encontrados"
   ]
  },
  {
   "cell_type": "code",
   "execution_count": 29,
   "metadata": {},
   "outputs": [
    {
     "data": {
      "text/plain": [
       "[{'item_id': 17390, 'app_name': 'SPORE™'},\n",
       " {'item_id': 304930, 'app_name': 'Unturned'},\n",
       " {'item_id': 346900, 'app_name': 'AdVenture Capitalist'},\n",
       " {'item_id': 246620, 'app_name': 'Plague Inc: Evolved'},\n",
       " {'item_id': 290140, 'app_name': 'Echo of Soul'}]"
      ]
     },
     "execution_count": 29,
     "metadata": {},
     "output_type": "execute_result"
    }
   ],
   "source": [
    "recomendacion_usuario1('ShadowYT100')"
   ]
  }
 ],
 "metadata": {
  "kernelspec": {
   "display_name": "Python 3",
   "language": "python",
   "name": "python3"
  },
  "language_info": {
   "codemirror_mode": {
    "name": "ipython",
    "version": 3
   },
   "file_extension": ".py",
   "mimetype": "text/x-python",
   "name": "python",
   "nbconvert_exporter": "python",
   "pygments_lexer": "ipython3",
   "version": "3.9.6"
  },
  "orig_nbformat": 4
 },
 "nbformat": 4,
 "nbformat_minor": 2
}
