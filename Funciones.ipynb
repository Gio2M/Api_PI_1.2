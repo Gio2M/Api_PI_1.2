{
 "cells": [
  {
   "cell_type": "markdown",
   "metadata": {},
   "source": [
    "# Cargamos los datasets con los que vamos a trabajar"
   ]
  },
  {
   "cell_type": "code",
   "execution_count": 128,
   "metadata": {},
   "outputs": [
    {
     "name": "stdout",
     "output_type": "stream",
     "text": [
      "                 user_id     posted  item_id  recommend  \\\n",
      "0      76561197970982479 2011-11-05     1250       True   \n",
      "1      76561197970982479 2011-07-15    22200       True   \n",
      "2      76561197970982479 2011-04-21    43110       True   \n",
      "3                js41637 2014-06-24   251610       True   \n",
      "4                js41637 2013-09-08   227300       True   \n",
      "...                  ...        ...      ...        ...   \n",
      "49181            wayfeng 2015-10-14      730       True   \n",
      "49182  76561198251004808 2015-10-10   253980       True   \n",
      "49183        72947282842 2015-10-31      730       True   \n",
      "49184          ApxLGhost 2015-12-14      730       True   \n",
      "49185  76561198267374962 2015-12-29   369200       True   \n",
      "\n",
      "                                                  review  sentiment_score  \\\n",
      "0      Simple yet with great replayability. In my opi...           0.8481   \n",
      "1                   It's unique and worth a playthrough.           0.2263   \n",
      "2      Great atmosphere. The gunplay can be a bit chu...           0.9117   \n",
      "3      I know what you think when you see this title ...           0.9566   \n",
      "4      For a simple (it's actually not all that simpl...           0.9708   \n",
      "...                                                  ...              ...   \n",
      "49181                                     its FUNNNNNNNN           0.0000   \n",
      "49182  Awesome fantasy game if you don't mind the gra...           0.7650   \n",
      "49183                                   Prettyy Mad Game          -0.4939   \n",
      "49184                                 AMAZING GAME 10/10           0.6739   \n",
      "49185  Why I voted yes? 1. Girl characters have boobs...           0.7089   \n",
      "\n",
      "       sentiment_analysis  \n",
      "0                       2  \n",
      "1                       2  \n",
      "2                       2  \n",
      "3                       2  \n",
      "4                       2  \n",
      "...                   ...  \n",
      "49181                   1  \n",
      "49182                   2  \n",
      "49183                   0  \n",
      "49184                   2  \n",
      "49185                   2  \n",
      "\n",
      "[49186 rows x 7 columns]\n"
     ]
    }
   ],
   "source": [
    "import pandas as pd\n",
    "# Especifica la ruta del archivo CSV que deseas leer\n",
    "file_path = 'Data/Datos_csv/reviews_nlp.csv'\n",
    "\n",
    "# Lee el archivo CSV y crea un DataFrame\n",
    "reviews = pd.read_csv(file_path, parse_dates=['posted'])\n",
    "\n",
    "# Ahora puedes trabajar con el DataFrame 'reviews'\n",
    "print(reviews)"
   ]
  },
  {
   "cell_type": "code",
   "execution_count": 129,
   "metadata": {},
   "outputs": [
    {
     "name": "stdout",
     "output_type": "stream",
     "text": [
      "                 publisher                                             genres  \\\n",
      "0                Kotoshiro  ['Action', 'Casual', 'Indie', 'Simulation', 'S...   \n",
      "1         Making Fun, Inc.       ['Free to Play', 'Indie', 'RPG', 'Strategy']   \n",
      "2             Poolians.com  ['Casual', 'Free to Play', 'Indie', 'Simulatio...   \n",
      "3                     彼岸领域                  ['Action', 'Adventure', 'Casual']   \n",
      "4      Trickjump Games Ltd              ['Action', 'Adventure', 'Simulation']   \n",
      "...                    ...                                                ...   \n",
      "22491      Bidoniera Games         ['Action', 'Adventure', 'Casual', 'Indie']   \n",
      "22492      Ghost_RUS Games      ['Casual', 'Indie', 'Simulation', 'Strategy']   \n",
      "22493               Sacada                    ['Casual', 'Indie', 'Strategy']   \n",
      "22494         Laush Studio                  ['Indie', 'Racing', 'Simulation']   \n",
      "22495             SIXNAILS                                ['Casual', 'Indie']   \n",
      "\n",
      "                       app_name                     title  \\\n",
      "0           Lost Summoner Kitty       Lost Summoner Kitty   \n",
      "1                     Ironbound                 Ironbound   \n",
      "2       Real Pool 3D - Poolians   Real Pool 3D - Poolians   \n",
      "3                       弹炸人2222                   弹炸人2222   \n",
      "4         Battle Royale Trainer     Battle Royale Trainer   \n",
      "...                         ...                       ...   \n",
      "22491              Kebab it Up!              Kebab it Up!   \n",
      "22492            Colony On Mars            Colony On Mars   \n",
      "22493  LOGistICAL: South Africa  LOGistICAL: South Africa   \n",
      "22494             Russian Roads             Russian Roads   \n",
      "22495       EXIT 2 - Directions       EXIT 2 - Directions   \n",
      "\n",
      "                                                     url release_date  \\\n",
      "0      http://store.steampowered.com/app/761140/Lost_...   2018-01-04   \n",
      "1      http://store.steampowered.com/app/643980/Ironb...   2018-01-04   \n",
      "2      http://store.steampowered.com/app/670290/Real_...   2017-07-24   \n",
      "3         http://store.steampowered.com/app/767400/2222/   2017-12-07   \n",
      "4      http://store.steampowered.com/app/772540/Battl...   2018-01-04   \n",
      "...                                                  ...          ...   \n",
      "22491  http://store.steampowered.com/app/745400/Kebab...   2018-01-04   \n",
      "22492  http://store.steampowered.com/app/773640/Colon...   2018-01-04   \n",
      "22493  http://store.steampowered.com/app/733530/LOGis...   2018-01-04   \n",
      "22494  http://store.steampowered.com/app/610660/Russi...   2018-01-04   \n",
      "22495  http://store.steampowered.com/app/658870/EXIT_...   2017-09-02   \n",
      "\n",
      "                                                    tags  \\\n",
      "0      ['Strategy', 'Action', 'Indie', 'Casual', 'Sim...   \n",
      "1      ['Free to Play', 'Strategy', 'Indie', 'RPG', '...   \n",
      "2      ['Free to Play', 'Simulation', 'Sports', 'Casu...   \n",
      "3                      ['Action', 'Adventure', 'Casual']   \n",
      "4      ['Action', 'Adventure', 'Simulation', 'FPS', '...   \n",
      "...                                                  ...   \n",
      "22491  ['Action', 'Indie', 'Casual', 'Violent', 'Adve...   \n",
      "22492      ['Strategy', 'Indie', 'Casual', 'Simulation']   \n",
      "22493                    ['Strategy', 'Indie', 'Casual']   \n",
      "22494                  ['Indie', 'Simulation', 'Racing']   \n",
      "22495  ['Indie', 'Casual', 'Puzzle', 'Singleplayer', ...   \n",
      "\n",
      "                                             reviews_url  \\\n",
      "0      http://steamcommunity.com/app/761140/reviews/?...   \n",
      "1      http://steamcommunity.com/app/643980/reviews/?...   \n",
      "2      http://steamcommunity.com/app/670290/reviews/?...   \n",
      "3      http://steamcommunity.com/app/767400/reviews/?...   \n",
      "4      http://steamcommunity.com/app/772540/reviews/?...   \n",
      "...                                                  ...   \n",
      "22491  http://steamcommunity.com/app/745400/reviews/?...   \n",
      "22492  http://steamcommunity.com/app/773640/reviews/?...   \n",
      "22493  http://steamcommunity.com/app/733530/reviews/?...   \n",
      "22494  http://steamcommunity.com/app/610660/reviews/?...   \n",
      "22495  http://steamcommunity.com/app/658870/reviews/?...   \n",
      "\n",
      "                                                   specs         price  \\\n",
      "0                                      ['Single-player']          4.99   \n",
      "1      ['Single-player', 'Multi-player', 'Online Mult...  Free To Play   \n",
      "2      ['Single-player', 'Multi-player', 'Online Mult...  Free to Play   \n",
      "3                                      ['Single-player']          0.99   \n",
      "4                ['Single-player', 'Steam Achievements']          3.99   \n",
      "...                                                  ...           ...   \n",
      "22491  ['Single-player', 'Steam Achievements', 'Steam...          1.99   \n",
      "22492            ['Single-player', 'Steam Achievements']          1.99   \n",
      "22493  ['Single-player', 'Steam Achievements', 'Steam...          4.99   \n",
      "22494  ['Single-player', 'Steam Achievements', 'Steam...          1.99   \n",
      "22495  ['Single-player', 'Steam Achievements', 'Steam...          4.99   \n",
      "\n",
      "       early_access  item_id                 developer  \n",
      "0             False   761140                 Kotoshiro  \n",
      "1             False   643980          Secret Level SRL  \n",
      "2             False   670290              Poolians.com  \n",
      "3             False   767400                      彼岸领域  \n",
      "4             False   772540       Trickjump Games Ltd  \n",
      "...             ...      ...                       ...  \n",
      "22491         False   745400           Bidoniera Games  \n",
      "22492         False   773640        Nikita \"Ghost_RUS\"  \n",
      "22493         False   733530                    Sacada  \n",
      "22494         False   610660  Laush Dmitriy Sergeevich  \n",
      "22495         False   658870             xropi,stev3ns  \n",
      "\n",
      "[22496 rows x 13 columns]\n"
     ]
    }
   ],
   "source": [
    "import pandas as pd\n",
    "# Especifica la ruta del archivo CSV que deseas leer\n",
    "file_path = 'Data/Datos_csv/games.csv'\n",
    "\n",
    "# Lee el archivo CSV y crea un DataFrame\n",
    "games = pd.read_csv(file_path, parse_dates= ['release_date'])\n",
    "\n",
    "# Ahora puedes trabajar con el DataFrame 'df'\n",
    "print(games)"
   ]
  },
  {
   "cell_type": "markdown",
   "metadata": {},
   "source": [
    "# Se crean las funciones para las consultas"
   ]
  },
  {
   "cell_type": "markdown",
   "metadata": {},
   "source": [
    "def UsersRecommend( año : int ): Devuelve el top 3 de juegos MÁS recomendados por usuarios para el año dado. (reviews.recommend = True y comentarios positivos/neutrales)\n",
    "\n",
    "Ejemplo de retorno: [{\"Puesto 1 : X\"}, {\"Puesto 2 : Y\"},{\"Puesto 3 : Z\"}]"
   ]
  },
  {
   "cell_type": "code",
   "execution_count": 130,
   "metadata": {},
   "outputs": [],
   "source": [
    "def UsersRecommend1(año: int):\n",
    "    # Filtrar reseñas por año, recomendación y comentarios positivos/neutrales\n",
    "    filtered_reviews = reviews[(reviews['posted'].dt.year == año) &\n",
    "                                  (reviews['recommend'] == True) &\n",
    "                                  (reviews['sentiment_analysis'].isin([1, 2]))]\n",
    "    \n",
    "    # Contar la cantidad de reseñas para cada juego\n",
    "    game_counts = filtered_reviews['item_id'].value_counts()\n",
    "    \n",
    "    # Filtrar los item_id que están en el DataFrame games\n",
    "    filtered_game_counts = game_counts[game_counts.index.isin(games['item_id'])]\n",
    "\n",
    "    # Obtener los top 3 juegos menos recomendados\n",
    "    top_3_games = filtered_game_counts.head(3)\n",
    "\n",
    "    # Crear una lista de diccionarios con los juegos y sus puestos\n",
    "    result = [{\"Puesto {}: {}\".format(i+1, games.loc[item_id]['app_name'])}\n",
    "              for i, item_id in enumerate(top_3_games)]\n",
    "    \n",
    "    return result"
   ]
  },
  {
   "cell_type": "code",
   "execution_count": 131,
   "metadata": {},
   "outputs": [
    {
     "data": {
      "text/plain": [
       "[{'Puesto 1: Borderlands 2: Commando Devilish Good Looks Pack'},\n",
       " {'Puesto 2: To the Moon Soundtrack'},\n",
       " {'Puesto 3: Airline Tycoon 2'}]"
      ]
     },
     "execution_count": 131,
     "metadata": {},
     "output_type": "execute_result"
    }
   ],
   "source": [
    "UsersRecommend1(2014)"
   ]
  },
  {
   "cell_type": "markdown",
   "metadata": {},
   "source": [
    "def UsersNotRecommend( año : int ): Devuelve el top 3 de juegos MENOS recomendados por usuarios para el año dado. (reviews.recommend = False y comentarios negativos)\n",
    "\n",
    "Ejemplo de retorno: [{\"Puesto 1 : X\"}, {\"Puesto 2 : Y\"},{\"Puesto 3 : Z\"}]"
   ]
  },
  {
   "cell_type": "code",
   "execution_count": 132,
   "metadata": {},
   "outputs": [],
   "source": [
    "def UsersNotRecommend1(año: int):\n",
    "    # Filtrar reseñas por año, no recomendación y sentimiento negativo\n",
    "    filtered_reviews = reviews[(reviews['posted'].dt.year == año) &\n",
    "                                  (reviews['recommend'] == False) &\n",
    "                                  (reviews['sentiment_analysis'] == 0)]\n",
    "    \n",
    "    # Contar la cantidad de reseñas negativas para cada juego\n",
    "    game_counts = filtered_reviews['item_id'].value_counts()\n",
    "       \n",
    "    # Filtrar los item_id que están en el DataFrame games\n",
    "    filtered_game_counts = game_counts[game_counts.index.isin(games['item_id'])]\n",
    "\n",
    "    # Obtener los top 3 juegos menos recomendados\n",
    "    top_3_games = filtered_game_counts.head(3)\n",
    "\n",
    "    # Crear una lista de diccionarios con los juegos y sus puestos\n",
    "    result = [{\"Puesto {}: {}\".format(i+1, games.loc[item_id]['app_name'])}\n",
    "              for i, item_id in enumerate(top_3_games)]\n",
    "    \n",
    "    return result"
   ]
  },
  {
   "cell_type": "code",
   "execution_count": 133,
   "metadata": {},
   "outputs": [
    {
     "data": {
      "text/plain": [
       "[{'Puesto 1: X-COM: Terror From the Deep'},\n",
       " {\"Puesto 2: Garry's Mod\"},\n",
       " {'Puesto 3: TAROTICA VOO DOO'}]"
      ]
     },
     "execution_count": 133,
     "metadata": {},
     "output_type": "execute_result"
    }
   ],
   "source": [
    "UsersNotRecommend1(2015)"
   ]
  },
  {
   "cell_type": "markdown",
   "metadata": {},
   "source": [
    "def sentiment_analysis( año : int ): Según el año de lanzamiento, se devuelve una lista con la cantidad de registros de reseñas de usuarios que se encuentren categorizados con un análisis de sentimiento.\n",
    "\n",
    "Ejemplo de retorno: {'Negative' = 182, 'Neutral' = 120, 'Positive' = 278}"
   ]
  },
  {
   "cell_type": "code",
   "execution_count": 140,
   "metadata": {},
   "outputs": [],
   "source": [
    "def sentiment_analysis1(Año: int):\n",
    "    # Filtra las reseñas que coincidan con el año objetivo\n",
    "    filtered_reviews = reviews[reviews['posted'].dt.year == Año]\n",
    "\n",
    "    # Realiza el conteo de las categorías de sentimiento\n",
    "    sentiment_counts = filtered_reviews['sentiment_analysis'].value_counts()\n",
    "\n",
    "    # Convierte los valores del diccionario a tipos nativos de Python\n",
    "    result_dict = {'Negative': int(sentiment_counts.get(0, 0)),\n",
    "                   'Neutral': int(sentiment_counts.get(1, 0)),\n",
    "                   'Positive': int(sentiment_counts.get(2, 0))}\n",
    "\n",
    "    return result_dict"
   ]
  },
  {
   "cell_type": "code",
   "execution_count": 141,
   "metadata": {},
   "outputs": [
    {
     "data": {
      "text/plain": [
       "{'Negative': 61, 'Neutral': 73, 'Positive': 398}"
      ]
     },
     "execution_count": 141,
     "metadata": {},
     "output_type": "execute_result"
    }
   ],
   "source": [
    "sentiment_analysis1(2011)"
   ]
  }
 ],
 "metadata": {
  "kernelspec": {
   "display_name": "Python 3",
   "language": "python",
   "name": "python3"
  },
  "language_info": {
   "codemirror_mode": {
    "name": "ipython",
    "version": 3
   },
   "file_extension": ".py",
   "mimetype": "text/x-python",
   "name": "python",
   "nbconvert_exporter": "python",
   "pygments_lexer": "ipython3",
   "version": "3.9.6"
  },
  "orig_nbformat": 4
 },
 "nbformat": 4,
 "nbformat_minor": 2
}
